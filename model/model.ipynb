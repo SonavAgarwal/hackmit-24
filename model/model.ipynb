{
 "cells": [
  {
   "cell_type": "code",
   "execution_count": 1,
   "metadata": {},
   "outputs": [
    {
     "name": "stdout",
     "output_type": "stream",
     "text": [
      "['fire', 'nofire']\n",
      "Found 3584 files belonging to 2 classes.\n",
      "Using 1792 files for training.\n",
      "Found 3584 files belonging to 2 classes.\n",
      "Using 716 files for validation.\n"
     ]
    },
    {
     "name": "stderr",
     "output_type": "stream",
     "text": [
      "/var/folders/4s/0shkycv9613d_rw6h0lfrjqw0000gn/T/ipykernel_9522/2035116742.py:45: UserWarning: `input_shape` is undefined or non-square, or `rows` is not in [96, 128, 160, 192, 224]. Weights for input shape (224, 224) will be loaded as the default.\n",
      "  base_model = applications.MobileNetV2(input_shape=(256, 256, 3), include_top=False, weights='imagenet')\n"
     ]
    },
    {
     "name": "stdout",
     "output_type": "stream",
     "text": [
      "Epoch 1/10\n",
      "\u001b[1m56/56\u001b[0m \u001b[32m━━━━━━━━━━━━━━━━━━━━\u001b[0m\u001b[37m\u001b[0m \u001b[1m22s\u001b[0m 369ms/step - accuracy: 0.8575 - loss: 0.2603 - val_accuracy: 0.9623 - val_loss: 0.1052\n",
      "Epoch 2/10\n",
      "\u001b[1m56/56\u001b[0m \u001b[32m━━━━━━━━━━━━━━━━━━━━\u001b[0m\u001b[37m\u001b[0m \u001b[1m21s\u001b[0m 374ms/step - accuracy: 0.9780 - loss: 0.0511 - val_accuracy: 0.9763 - val_loss: 0.0717\n",
      "Epoch 3/10\n",
      "\u001b[1m56/56\u001b[0m \u001b[32m━━━━━━━━━━━━━━━━━━━━\u001b[0m\u001b[37m\u001b[0m \u001b[1m21s\u001b[0m 377ms/step - accuracy: 0.9907 - loss: 0.0289 - val_accuracy: 0.9804 - val_loss: 0.0573\n",
      "Epoch 4/10\n",
      "\u001b[1m56/56\u001b[0m \u001b[32m━━━━━━━━━━━━━━━━━━━━\u001b[0m\u001b[37m\u001b[0m \u001b[1m20s\u001b[0m 351ms/step - accuracy: 0.9962 - loss: 0.0171 - val_accuracy: 0.9818 - val_loss: 0.0566\n",
      "Epoch 5/10\n",
      "\u001b[1m56/56\u001b[0m \u001b[32m━━━━━━━━━━━━━━━━━━━━\u001b[0m\u001b[37m\u001b[0m \u001b[1m20s\u001b[0m 352ms/step - accuracy: 0.9986 - loss: 0.0116 - val_accuracy: 0.9804 - val_loss: 0.0619\n",
      "Epoch 6/10\n",
      "\u001b[1m56/56\u001b[0m \u001b[32m━━━━━━━━━━━━━━━━━━━━\u001b[0m\u001b[37m\u001b[0m \u001b[1m21s\u001b[0m 372ms/step - accuracy: 0.9974 - loss: 0.0089 - val_accuracy: 0.9832 - val_loss: 0.0603\n",
      "Epoch 7/10\n",
      "\u001b[1m56/56\u001b[0m \u001b[32m━━━━━━━━━━━━━━━━━━━━\u001b[0m\u001b[37m\u001b[0m \u001b[1m22s\u001b[0m 386ms/step - accuracy: 0.9998 - loss: 0.0071 - val_accuracy: 0.9832 - val_loss: 0.0592\n",
      "Epoch 8/10\n",
      "\u001b[1m56/56\u001b[0m \u001b[32m━━━━━━━━━━━━━━━━━━━━\u001b[0m\u001b[37m\u001b[0m \u001b[1m22s\u001b[0m 396ms/step - accuracy: 0.9995 - loss: 0.0046 - val_accuracy: 0.9846 - val_loss: 0.0579\n",
      "Epoch 9/10\n",
      "\u001b[1m56/56\u001b[0m \u001b[32m━━━━━━━━━━━━━━━━━━━━\u001b[0m\u001b[37m\u001b[0m \u001b[1m21s\u001b[0m 384ms/step - accuracy: 1.0000 - loss: 0.0030 - val_accuracy: 0.9818 - val_loss: 0.0598\n",
      "Epoch 10/10\n",
      "\u001b[1m56/56\u001b[0m \u001b[32m━━━━━━━━━━━━━━━━━━━━\u001b[0m\u001b[37m\u001b[0m \u001b[1m22s\u001b[0m 397ms/step - accuracy: 1.0000 - loss: 0.0022 - val_accuracy: 0.9832 - val_loss: 0.0600\n",
      "Epoch 1/5\n",
      "\u001b[1m56/56\u001b[0m \u001b[32m━━━━━━━━━━━━━━━━━━━━\u001b[0m\u001b[37m\u001b[0m \u001b[1m32s\u001b[0m 508ms/step - accuracy: 0.8968 - loss: 0.2655 - val_accuracy: 0.9791 - val_loss: 0.0760\n",
      "Epoch 2/5\n",
      "\u001b[1m56/56\u001b[0m \u001b[32m━━━━━━━━━━━━━━━━━━━━\u001b[0m\u001b[37m\u001b[0m \u001b[1m27s\u001b[0m 480ms/step - accuracy: 0.9782 - loss: 0.0604 - val_accuracy: 0.9777 - val_loss: 0.0802\n",
      "Epoch 3/5\n",
      "\u001b[1m56/56\u001b[0m \u001b[32m━━━━━━━━━━━━━━━━━━━━\u001b[0m\u001b[37m\u001b[0m \u001b[1m28s\u001b[0m 493ms/step - accuracy: 0.9850 - loss: 0.0372 - val_accuracy: 0.9791 - val_loss: 0.0797\n",
      "Epoch 4/5\n",
      "\u001b[1m56/56\u001b[0m \u001b[32m━━━━━━━━━━━━━━━━━━━━\u001b[0m\u001b[37m\u001b[0m \u001b[1m30s\u001b[0m 539ms/step - accuracy: 0.9919 - loss: 0.0247 - val_accuracy: 0.9749 - val_loss: 0.0869\n",
      "Epoch 5/5\n",
      "\u001b[1m56/56\u001b[0m \u001b[32m━━━━━━━━━━━━━━━━━━━━\u001b[0m\u001b[37m\u001b[0m \u001b[1m29s\u001b[0m 518ms/step - accuracy: 0.9960 - loss: 0.0161 - val_accuracy: 0.9777 - val_loss: 0.0790\n"
     ]
    },
    {
     "name": "stderr",
     "output_type": "stream",
     "text": [
      "WARNING:absl:You are saving your model as an HDF5 file via `model.save()` or `keras.saving.save_model(model)`. This file format is considered legacy. We recommend using instead the native Keras format, e.g. `model.save('my_model.keras')` or `keras.saving.save_model(model, 'my_model.keras')`. \n"
     ]
    }
   ],
   "source": [
    "import keras\n",
    "from keras import layers\n",
    "import tensorflow as tf\n",
    "from keras import applications, models, layers\n",
    "\n",
    "import os\n",
    "print(os.listdir('./data'))\n",
    "\n",
    "\n",
    "train_dataset = keras.utils.image_dataset_from_directory(\n",
    "    './data',                       \n",
    "    labels='inferred',             \n",
    "    label_mode='int',              \n",
    "    batch_size=32,                 \n",
    "    image_size=(256, 256),         \n",
    "    shuffle=True,                  \n",
    "    validation_split=0.5,          \n",
    "    subset='training',             \n",
    "    seed=123                       \n",
    ")\n",
    "\n",
    "validation_dataset = keras.utils.image_dataset_from_directory(\n",
    "    './data',                    \n",
    "    labels='inferred',           \n",
    "    label_mode='int',            \n",
    "    batch_size=32,               \n",
    "    image_size=(256, 256),       \n",
    "    shuffle=True,                \n",
    "    validation_split=0.2,        \n",
    "    subset='validation',         \n",
    "    seed=123                     \n",
    ")\n",
    "\n",
    "# normalize pixel values to [0, 1]\n",
    "normalization_layer = layers.Rescaling(1./255)\n",
    "\n",
    "train_dataset = train_dataset.map(lambda x, y: (normalization_layer(x), y))\n",
    "validation_dataset = validation_dataset.map(lambda x, y: (normalization_layer(x), y))\n",
    "\n",
    "# Prefetch to optimize performance during training\n",
    "# AUTOTUNE = tf.data.AUTOTUNE\n",
    "# train_dataset = train_dataset.prefetch(buffer_size=AUTOTUNE)\n",
    "# validation_dataset = validation_dataset.prefetch(buffer_size=AUTOTUNE)\n",
    "\n",
    "base_model = applications.MobileNetV2(input_shape=(256, 256, 3), include_top=False, weights='imagenet')\n",
    "base_model.trainable = False  \n",
    "\n",
    "model = models.Sequential([\n",
    "    base_model,\n",
    "    layers.GlobalAveragePooling2D(),\n",
    "    layers.Dense(128, activation='relu'),\n",
    "    layers.Dense(1, activation='sigmoid')  # Assuming binary classification (fire risk vs no fire risk)\n",
    "])\n",
    "\n",
    "model.compile(optimizer=tf.keras.optimizers.Adam(learning_rate=0.001),\n",
    "              loss='binary_crossentropy',\n",
    "              metrics=['accuracy'])\n",
    "\n",
    "# training\n",
    "history = model.fit(\n",
    "    train_dataset,\n",
    "    validation_data=validation_dataset,\n",
    "    epochs=10\n",
    ")\n",
    "\n",
    "# unfreeze base model layers and fine tune\n",
    "base_model.trainable = True\n",
    "for layer in base_model.layers[:-40]:\n",
    "    layer.trainable = False\n",
    "\n",
    "model.compile(optimizer=tf.keras.optimizers.Adam(learning_rate=1e-5),\n",
    "              loss='binary_crossentropy',\n",
    "              metrics=['accuracy'])\n",
    "\n",
    "fine_tune_history = model.fit(\n",
    "    train_dataset,\n",
    "    validation_data=validation_dataset,\n",
    "    epochs=5\n",
    ")\n",
    "\n",
    "model.save('fire_risk_model.h5')"
   ]
  },
  {
   "cell_type": "code",
   "execution_count": 3,
   "metadata": {},
   "outputs": [
    {
     "name": "stdout",
     "output_type": "stream",
     "text": [
      "Found 40 files belonging to 2 classes.\n",
      "\u001b[1m2/2\u001b[0m \u001b[32m━━━━━━━━━━━━━━━━━━━━\u001b[0m\u001b[37m\u001b[0m \u001b[1m0s\u001b[0m 75ms/step - accuracy: 1.0000 - loss: 0.0022\n",
      "Test Loss: 0.002107433509081602\n",
      "Test Accuracy: 1.0\n"
     ]
    }
   ],
   "source": [
    "# Load testing dataset\n",
    "test_dataset = keras.utils.image_dataset_from_directory(\n",
    "    './testing',                    # Path to testing data\n",
    "    labels='inferred',              # Infer labels from directory structure\n",
    "    label_mode='int',               # Integer labels for binary classification\n",
    "    batch_size=32,                  # Use same batch size as for training\n",
    "    image_size=(256, 256),          # Use same image size as for training\n",
    "    shuffle=False                   # No need to shuffle the testing data\n",
    ")\n",
    "\n",
    "# Normalize the pixel values of the testing dataset\n",
    "test_dataset = test_dataset.map(lambda x, y: (normalization_layer(x), y))\n",
    "\n",
    "# Evaluate the model on the testing data\n",
    "test_loss, test_accuracy = model.evaluate(test_dataset)\n",
    "\n",
    "print(f\"Test Loss: {test_loss}\")\n",
    "print(f\"Test Accuracy: {test_accuracy}\")\n"
   ]
  }
 ],
 "metadata": {
  "kernelspec": {
   "display_name": "base",
   "language": "python",
   "name": "python3"
  },
  "language_info": {
   "codemirror_mode": {
    "name": "ipython",
    "version": 3
   },
   "file_extension": ".py",
   "mimetype": "text/x-python",
   "name": "python",
   "nbconvert_exporter": "python",
   "pygments_lexer": "ipython3",
   "version": "3.11.5"
  }
 },
 "nbformat": 4,
 "nbformat_minor": 2
}
